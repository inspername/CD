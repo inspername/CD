{
 "cells": [
  {
   "cell_type": "markdown",
   "metadata": {},
   "source": [
    "Chegada de Turistas Internacionais ao Brasil"
   ]
  },
  {
   "cell_type": "markdown",
   "metadata": {},
   "source": [
    "# Itens 1-3"
   ]
  },
  {
   "cell_type": "code",
   "execution_count": 15,
   "metadata": {
    "collapsed": false
   },
   "outputs": [
    {
     "name": "stdout",
     "output_type": "stream",
     "text": [
      "Esperamos trabalhar no diretório\n",
      "C:\\Users\\lucas\\OneDrive\\Documentos\\Insper\\Ciência dos Dados\\MiniProjeto1\n"
     ]
    }
   ],
   "source": [
    "%matplotlib inline\n",
    "import pandas as pd\n",
    "import matplotlib.pyplot as plt\n",
    "import numpy as np\n",
    "import os\n",
    "from scipy import stats\n",
    "\n",
    "print('Esperamos trabalhar no diretório')\n",
    "print(os.getcwd())"
   ]
  },
  {
   "cell_type": "code",
   "execution_count": 16,
   "metadata": {
    "collapsed": false,
    "scrolled": true
   },
   "outputs": [],
   "source": [
    "dados15 = pd.read_table('chegadas_2015.csv', sep=';', encoding = 'iso-8859-1')\n",
    "\n",
    "dados14 = pd.read_table('chegadas_2014.csv', sep=';', encoding = 'iso-8859-1')\n",
    "dados13 = pd.read_table('chegadas_2013.csv', sep=';', encoding = 'iso-8859-1')\n",
    "dados12 = pd.read_table('chegadas_2012.csv', sep=';', encoding = 'iso-8859-1')\n",
    "dados11 = pd.read_table('chegadas_2011.csv', sep=';', encoding = 'iso-8859-1')\n",
    "dados10 = pd.read_table('chegadas_2010.csv', sep=';', encoding = 'iso-8859-1')\n",
    "dados09 = pd.read_table('chegadas_2009.csv', sep=';', encoding = 'iso-8859-1')\n",
    "dados08 = pd.read_table('chegadas_2008.csv', sep=';', encoding = 'iso-8859-1')\n",
    "dados07 = pd.read_table('chegadas_2007.csv', sep=';', encoding = 'iso-8859-1')\n",
    "dados06 = pd.read_table('chegadas_2006.csv', sep=';', encoding = 'iso-8859-1')\n",
    "\n",
    "dados07 = dados07.dropna()"
   ]
  },
  {
   "cell_type": "code",
   "execution_count": 17,
   "metadata": {
    "collapsed": false
   },
   "outputs": [
    {
     "data": {
      "text/plain": [
       "(19584, 12)"
      ]
     },
     "execution_count": 17,
     "metadata": {},
     "output_type": "execute_result"
    }
   ],
   "source": [
    "dados07.shape"
   ]
  },
  {
   "cell_type": "code",
   "execution_count": 18,
   "metadata": {
    "collapsed": false
   },
   "outputs": [
    {
     "data": {
      "text/plain": [
       "5025834.0"
      ]
     },
     "execution_count": 18,
     "metadata": {},
     "output_type": "execute_result"
    }
   ],
   "source": [
    "turistas15 = dados15.Chegadas.astype('category')\n",
    "t15 = 0\n",
    "for e in turistas15:\n",
    "    t15 += e\n",
    "\n",
    "t14 = 0\n",
    "t13 = 0\n",
    "t12 = 0\n",
    "t11 = 0\n",
    "t10 = 0\n",
    "t09 = 0\n",
    "t08 = 0\n",
    "t07 = 0\n",
    "t06 = 0\n",
    "\n",
    "turistas14 = dados14.Chegadas.astype('category')\n",
    "for e in turistas14:\n",
    "    t14 += e\n",
    "    \n",
    "turistas13 = dados13.Chegadas.astype('category')\n",
    "for e in turistas13:\n",
    "    t13 += e\n",
    "\n",
    "turistas12 = dados12.Chegadas.astype('category')\n",
    "for e in turistas12:\n",
    "    t12 += e\n",
    "\n",
    "turistas11 = dados11.Chegadas.astype('category')\n",
    "for e in turistas11:\n",
    "    t11 += e\n",
    "turistas10 = dados10.Chegadas.astype('category')\n",
    "for e in turistas10:\n",
    "    t10 += e\n",
    "turistas09 = dados09.Chegadas.astype('category')\n",
    "for e in turistas09:\n",
    "    t09 += e\n",
    "turistas08 = dados08.Chegadas.astype('category')\n",
    "for e in turistas08:\n",
    "    t08 += e\n",
    "turistas07 = dados07.Chegadas.astype('category')\n",
    "for e in turistas07:\n",
    "    t07 += e\n",
    "turistas06 = dados06.Chegadas.astype('category')\n",
    "for e in turistas06:\n",
    "    t06 += e\n",
    "t07"
   ]
  },
  {
   "cell_type": "code",
   "execution_count": 19,
   "metadata": {
    "collapsed": false,
    "scrolled": true
   },
   "outputs": [
    {
     "data": {
      "text/html": [
       "<div>\n",
       "<table border=\"1\" class=\"dataframe\">\n",
       "  <thead>\n",
       "    <tr style=\"text-align: right;\">\n",
       "      <th></th>\n",
       "      <th>Ano</th>\n",
       "      <th>Turistas</th>\n",
       "    </tr>\n",
       "  </thead>\n",
       "  <tbody>\n",
       "    <tr>\n",
       "      <th>0</th>\n",
       "      <td>2006.0</td>\n",
       "      <td>5017251.0</td>\n",
       "    </tr>\n",
       "    <tr>\n",
       "      <th>1</th>\n",
       "      <td>2007.0</td>\n",
       "      <td>5025834.0</td>\n",
       "    </tr>\n",
       "    <tr>\n",
       "      <th>2</th>\n",
       "      <td>2008.0</td>\n",
       "      <td>5050099.0</td>\n",
       "    </tr>\n",
       "    <tr>\n",
       "      <th>3</th>\n",
       "      <td>2009.0</td>\n",
       "      <td>4802217.0</td>\n",
       "    </tr>\n",
       "    <tr>\n",
       "      <th>4</th>\n",
       "      <td>2010.0</td>\n",
       "      <td>5161379.0</td>\n",
       "    </tr>\n",
       "    <tr>\n",
       "      <th>5</th>\n",
       "      <td>2011.0</td>\n",
       "      <td>5433354.0</td>\n",
       "    </tr>\n",
       "    <tr>\n",
       "      <th>6</th>\n",
       "      <td>2012.0</td>\n",
       "      <td>5676843.0</td>\n",
       "    </tr>\n",
       "    <tr>\n",
       "      <th>7</th>\n",
       "      <td>2013.0</td>\n",
       "      <td>5813342.0</td>\n",
       "    </tr>\n",
       "    <tr>\n",
       "      <th>8</th>\n",
       "      <td>2014.0</td>\n",
       "      <td>6429852.0</td>\n",
       "    </tr>\n",
       "    <tr>\n",
       "      <th>9</th>\n",
       "      <td>2015.0</td>\n",
       "      <td>6305838.0</td>\n",
       "    </tr>\n",
       "  </tbody>\n",
       "</table>\n",
       "</div>"
      ],
      "text/plain": [
       "      Ano   Turistas\n",
       "0  2006.0  5017251.0\n",
       "1  2007.0  5025834.0\n",
       "2  2008.0  5050099.0\n",
       "3  2009.0  4802217.0\n",
       "4  2010.0  5161379.0\n",
       "5  2011.0  5433354.0\n",
       "6  2012.0  5676843.0\n",
       "7  2013.0  5813342.0\n",
       "8  2014.0  6429852.0\n",
       "9  2015.0  6305838.0"
      ]
     },
     "execution_count": 19,
     "metadata": {},
     "output_type": "execute_result"
    }
   ],
   "source": [
    "Matriz = np.array([[2006,t06],[2007,t07],[2008,t08],[2009,t09],[2010,t10],[2011,t11],[2012,t12],[2013,t13],[2014,t14,],[2015,t15]])\n",
    "dadosAnos = pd.DataFrame(Matriz, columns=['Ano','Turistas'])\n",
    "\n",
    "dadosAnos"
   ]
  },
  {
   "cell_type": "code",
   "execution_count": 20,
   "metadata": {
    "collapsed": false
   },
   "outputs": [
    {
     "data": {
      "image/png": "[encoded data removed]",
      "text/plain": [
       "<matplotlib.figure.Figure at 0x1982a066f28>"
      ]
     },
     "metadata": {},
     "output_type": "display_data"
    }
   ],
   "source": [
    "Anos = dadosAnos.Ano.astype('category')\n",
    "Turistas = dadosAnos.Turistas.astype('category')\n",
    "plt.bar(Anos,Turistas)\n",
    "plt.show()"
   ]
  },
  {
   "cell_type": "code",
   "execution_count": 21,
   "metadata": {
    "collapsed": false,
    "scrolled": true
   },
   "outputs": [
    {
     "data": {
      "text/plain": [
       "<matplotlib.axes._subplots.AxesSubplot at 0x1982755d5f8>"
      ]
     },
     "execution_count": 21,
     "metadata": {},
     "output_type": "execute_result"
    },
    {
     "data": {
      "image/png": "[encoded data removed]",
      "text/plain": [
       "<matplotlib.figure.Figure at 0x198267a0c88>"
      ]
     },
     "metadata": {},
     "output_type": "display_data"
    }
   ],
   "source": [
    "dadosAnos.Turistas.plot.hist(normed=1)"
   ]
  },
  {
   "cell_type": "markdown",
   "metadata": {},
   "source": [
    "Gerar histograma com quantidade de turistas mensal.\n",
    "\n",
    "y: frequência da ocorrência dos números de turistas vindos em algum mês entre 2006 e 2015.\n",
    "\n",
    "x: Números de turistas vindos no intervalo de um mês.\n",
    "\n",
    "x vs. y: dispersão da quantidade de turistas vindos em um intervalo de tempo mensal."
   ]
  },
  {
   "cell_type": "markdown",
   "metadata": {},
   "source": [
    "____"
   ]
  },
  {
   "cell_type": "code",
   "execution_count": 22,
   "metadata": {
    "collapsed": false
   },
   "outputs": [],
   "source": [
    "meses15 = dados15[\"Mês\"]\n",
    "meses14 = dados14[\"Mês\"]\n",
    "meses13 = dados13[\"Mês\"]\n",
    "meses12 = dados12[\"Mês\"]\n",
    "meses11 = dados11[\"Mês\"]\n",
    "meses10 = dados10[\"Mês\"]\n",
    "meses09 = dados09[\"Mês\"]\n",
    "meses08 = dados08[\"Mês\"]\n"
   ]
  },
  {
   "cell_type": "code",
   "execution_count": 23,
   "metadata": {
    "collapsed": false
   },
   "outputs": [],
   "source": [
    "chegadas15 = dados15[\"Chegadas\"]\n",
    "chegadas14 = dados14[\"Chegadas\"]\n",
    "chegadas13 = dados13[\"Chegadas\"]\n",
    "chegadas12 = dados12[\"Chegadas\"]\n",
    "chegadas11 = dados11[\"Chegadas\"]\n",
    "chegadas10 = dados10[\"Chegadas\"]\n",
    "chegadas09 = dados09[\"Chegadas\"]\n",
    "chegadas08 = dados08[\"Chegadas\"]\n"
   ]
  },
  {
   "cell_type": "code",
   "execution_count": 24,
   "metadata": {
    "collapsed": true
   },
   "outputs": [],
   "source": [
    "\n",
    "data15 = pd.concat([meses15,chegadas15], axis=1, join_axes=[meses15.index])\n",
    "data14 = pd.concat([meses14,chegadas14], axis=1, join_axes=[meses14.index])\n",
    "data13 = pd.concat([meses13,chegadas13], axis=1, join_axes=[meses13.index])\n",
    "data12 = pd.concat([meses12,chegadas12], axis=1, join_axes=[meses12.index])\n",
    "data11 = pd.concat([meses11,chegadas11], axis=1, join_axes=[meses11.index])\n",
    "data10 = pd.concat([meses10,chegadas10], axis=1, join_axes=[meses10.index])\n",
    "data09 = pd.concat([meses09,chegadas09], axis=1, join_axes=[meses09.index])\n",
    "data08 = pd.concat([meses08,chegadas08], axis=1, join_axes=[meses08.index])\n"
   ]
  },
  {
   "cell_type": "code",
   "execution_count": 25,
   "metadata": {
    "collapsed": false
   },
   "outputs": [
    {
     "name": "stdout",
     "output_type": "stream",
     "text": [
      "96\n"
     ]
    }
   ],
   "source": [
    "totaisMensais = []\n",
    "\n",
    "def calculoMensal(totaisMensais,dataXX):\n",
    "    listaMes = []\n",
    "    for i in range(len(dataXX.Mês)):\n",
    "        if dataXX.Mês[i] == \"janeiro\":\n",
    "            listaMes.append(dataXX.Chegadas[i])       \n",
    "    totaisMensais.append(sum(listaMes))\n",
    "    del(listaMes[:])\n",
    "    for i in range(len(dataXX.Mês)):\n",
    "        if dataXX.Mês[i] == \"fevereiro\":\n",
    "            listaMes.append(dataXX.Chegadas[i])       \n",
    "    totaisMensais.append(sum(listaMes))\n",
    "    del(listaMes[:])\n",
    "    for i in range(len(dataXX.Mês)):\n",
    "        if dataXX.Mês[i] == \"março\":\n",
    "            listaMes.append(dataXX.Chegadas[i])       \n",
    "    totaisMensais.append(sum(listaMes))\n",
    "    del(listaMes[:])\n",
    "    for i in range(len(dataXX.Mês)):\n",
    "        if dataXX.Mês[i] == \"abril\":\n",
    "            listaMes.append(dataXX.Chegadas[i])       \n",
    "    totaisMensais.append(sum(listaMes))\n",
    "    del(listaMes[:])\n",
    "    for i in range(len(dataXX.Mês)):\n",
    "        if dataXX.Mês[i] == \"maio\":\n",
    "            listaMes.append(dataXX.Chegadas[i])       \n",
    "    totaisMensais.append(sum(listaMes))\n",
    "    del(listaMes[:])\n",
    "    for i in range(len(dataXX.Mês)):\n",
    "        if dataXX.Mês[i] == \"junho\":\n",
    "            listaMes.append(dataXX.Chegadas[i])       \n",
    "    totaisMensais.append(sum(listaMes))\n",
    "    del(listaMes[:])\n",
    "    for i in range(len(dataXX.Mês)):\n",
    "        if dataXX.Mês[i] == \"julho\":\n",
    "            listaMes.append(dataXX.Chegadas[i])       \n",
    "    totaisMensais.append(sum(listaMes))\n",
    "    del(listaMes[:])\n",
    "    for i in range(len(dataXX.Mês)):\n",
    "        if dataXX.Mês[i] == \"agosto\":\n",
    "            listaMes.append(dataXX.Chegadas[i])       \n",
    "    totaisMensais.append(sum(listaMes))\n",
    "    del(listaMes[:])\n",
    "    for i in range(len(dataXX.Mês)):\n",
    "        if dataXX.Mês[i] == \"setembro\":\n",
    "            listaMes.append(dataXX.Chegadas[i])       \n",
    "    totaisMensais.append(sum(listaMes))\n",
    "    del(listaMes[:])\n",
    "    for i in range(len(dataXX.Mês)):\n",
    "        if dataXX.Mês[i] == \"outubro\":\n",
    "            listaMes.append(dataXX.Chegadas[i])       \n",
    "    totaisMensais.append(sum(listaMes))\n",
    "    del(listaMes[:])\n",
    "    for i in range(len(dataXX.Mês)):\n",
    "        if dataXX.Mês[i] == \"novembro\":\n",
    "            listaMes.append(dataXX.Chegadas[i])       \n",
    "    totaisMensais.append(sum(listaMes))\n",
    "    del(listaMes[:])\n",
    "    for i in range(len(dataXX.Mês)):\n",
    "        if dataXX.Mês[i] == \"dezembro\":\n",
    "            listaMes.append(dataXX.Chegadas[i])       \n",
    "    totaisMensais.append(sum(listaMes))\n",
    "    del(listaMes[:])\n",
    "\n",
    "#calculoMensal(totaisMensais,data15,\"janeiro\")\n",
    "#calculoMensal(totaisMensais,data14,\"janeiro\")\n",
    "\n",
    "calculoMensal(totaisMensais,data15)\n",
    "calculoMensal(totaisMensais,data14)\n",
    "calculoMensal(totaisMensais,data13)\n",
    "calculoMensal(totaisMensais,data12)\n",
    "calculoMensal(totaisMensais,data11)\n",
    "calculoMensal(totaisMensais,data10)\n",
    "calculoMensal(totaisMensais,data09)\n",
    "calculoMensal(totaisMensais,data08)\n",
    "\n",
    "print(len(totaisMensais))"
   ]
  },
  {
   "cell_type": "code",
   "execution_count": 26,
   "metadata": {
    "collapsed": false
   },
   "outputs": [
    {
     "data": {
      "text/plain": [
       "<matplotlib.axes._subplots.AxesSubplot at 0x19828a0fef0>"
      ]
     },
     "execution_count": 26,
     "metadata": {},
     "output_type": "execute_result"
    },
    {
     "data": {
      "image/png": "[encoded data removed]",
      "text/plain": [
       "<matplotlib.figure.Figure at 0x198231774a8>"
      ]
     },
     "metadata": {},
     "output_type": "display_data"
    }
   ],
   "source": [
    "Total = pd.Series(sorted(totaisMensais))\n",
    "Total.plot.hist(normed=1)"
   ]
  },
  {
   "cell_type": "markdown",
   "metadata": {
    "collapsed": true
   },
   "source": [
    "# Itens 4-6"
   ]
  },
  {
   "cell_type": "markdown",
   "metadata": {
    "collapsed": true
   },
   "source": [
    "Distribuição Chi-Quadrado e Distribuição de Gauss Hiperbólica"
   ]
  }
 ],
 "metadata": {
  "anaconda-cloud": {},
  "kernelspec": {
   "display_name": "Python [Root]",
   "language": "python",
   "name": "Python [Root]"
  },
  "language_info": {
   "codemirror_mode": {
    "name": "ipython",
    "version": 3
   },
   "file_extension": ".py",
   "mimetype": "text/x-python",
   "name": "python",
   "nbconvert_exporter": "python",
   "pygments_lexer": "ipython3",
   "version": "3.5.2"
  }
 },
 "nbformat": 4,
 "nbformat_minor": 0
}
