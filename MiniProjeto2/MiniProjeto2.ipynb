{
 "cells": [
  {
   "cell_type": "markdown",
   "metadata": {},
   "source": [
    "### Miniprojeto 2: Alexandre Young / Jean Walper / Lucas Kitahara\n",
    "\n",
    "Distribuição Beta"
   ]
  },
  {
   "cell_type": "code",
   "execution_count": 61,
   "metadata": {
    "collapsed": true
   },
   "outputs": [],
   "source": [
    "%matplotlib inline\n",
    "import pandas as pd\n",
    "import matplotlib.pyplot as plt\n",
    "import numpy as np\n",
    "from scipy import stats"
   ]
  },
  {
   "cell_type": "markdown",
   "metadata": {},
   "source": [
    "1-\n",
    " a-\n",
    "    Usaremos a distribuição Beta para esse projeto, por conta da experiencia que os integrantes do grupo ja tiveram com essa distribuição em outros projetos. Os valores para α e β como sendo, respectivamente, 2 e 5. Pegamos esse valores por que eles representam bem uma das possiveis formas que essa distribuição pode ter, sendo padrão para a distribuição beta.\n",
    "    "
   ]
  },
  {
   "cell_type": "code",
   "execution_count": 62,
   "metadata": {
    "collapsed": false
   },
   "outputs": [
    {
     "data": {
      "text/plain": [
       "array([[<matplotlib.axes._subplots.AxesSubplot object at 0x000001AF01D1FE10>]], dtype=object)"
      ]
     },
     "execution_count": 62,
     "metadata": {},
     "output_type": "execute_result"
    },
    {
     "data": {
      "image/png": "[encoded data removed]",
      "text/plain": [
       "<matplotlib.figure.Figure at 0x1af01b9a9e8>"
      ]
     },
     "metadata": {},
     "output_type": "display_data"
    }
   ],
   "source": [
    "#1 - b:  (Tamanho = 100.000)\n",
    "Data = pd.DataFrame()\n",
    "Values = stats.beta.rvs(2, 5, size=100000)\n",
    "Data[\"Val\"] = Values\n",
    "Data.hist(bins = 50)"
   ]
  },
  {
   "cell_type": "code",
   "execution_count": 63,
   "metadata": {
    "collapsed": false
   },
   "outputs": [
    {
     "name": "stdout",
     "output_type": "stream",
     "text": [
      "Média = 0.2862033817170855\n",
      "Variancia= 0.02555720712244732\n"
     ]
    }
   ],
   "source": [
    "#1- c\n",
    "var = Data.Val.var()\n",
    "mean = Data.Val.mean()\n",
    "\n",
    "print(\"Média =\",mean)\n",
    "print(\"Variancia=\", var)"
   ]
  },
  {
   "cell_type": "code",
   "execution_count": 64,
   "metadata": {
    "collapsed": false
   },
   "outputs": [],
   "source": [
    "#2- a\n",
    "\n",
    "n = 2\n",
    "\n",
    "#2- b\n",
    "\n",
    "Escolhas = np.random.choice(Values,n)\n",
    "RandomDf = pd.DataFrame()\n",
    "RandomDf[\"Val\"] = Escolhas\n"
   ]
  },
  {
   "cell_type": "code",
   "execution_count": 65,
   "metadata": {
    "collapsed": false
   },
   "outputs": [
    {
     "name": "stdout",
     "output_type": "stream",
     "text": [
      "0.3178233624842053\n"
     ]
    }
   ],
   "source": [
    "#2- c\n",
    "\n",
    "print(RandomDf.Val.mean())"
   ]
  },
  {
   "cell_type": "code",
   "execution_count": 66,
   "metadata": {
    "collapsed": false,
    "scrolled": true
   },
   "outputs": [
    {
     "name": "stdout",
     "output_type": "stream",
     "text": [
      "0.28715580929609624\n",
      "0.012761130945419173\n",
      "0.006380565472709586\n"
     ]
    },
    {
     "data": {
      "image/png": "[encoded data removed]",
      "text/plain": [
       "<matplotlib.figure.Figure at 0x1af01ba4d30>"
      ]
     },
     "metadata": {},
     "output_type": "display_data"
    }
   ],
   "source": [
    "#2- d\n",
    "n = 2\n",
    "\n",
    "ListaDeMedias = []\n",
    "RandomDf = pd.DataFrame()\n",
    "for i in range(10000):\n",
    "    Escolhas = np.random.choice(Values,n)\n",
    "    RandomDf[\"Val\"] = Escolhas\n",
    "    ListaDeMedias.append(RandomDf.Val.mean())\n",
    "\n",
    "#2- e\n",
    "    \n",
    "MediaPd = pd.DataFrame()\n",
    "MediaPd[\"Val\"] = ListaDeMedias\n",
    "\n",
    "MediaPd.hist(bins = 50)\n",
    "\n",
    "plt.axvline(mean, color='red', linestyle='--',linewidth=2.6)\n",
    "\n",
    "#plt.axvline(MediaPd.Val.mean(), color='green', linestyle='--',linewidth=2.6)\n",
    "\n",
    "print(MediaPd.Val.mean())\n",
    "print(MediaPd.Val.var())\n",
    "\n",
    "print(MediaPd.Val.var()/n)"
   ]
  },
  {
   "cell_type": "markdown",
   "metadata": {},
   "source": [
    "#2-f\n",
    "\n",
    "É de se esperar pelo TLC que a distribuição X seja uma normal, mas isso apenas para n tendendo ao infinito,\n",
    "com o n inicial que estamos usando baixo a distribuição que vemos quando plotamos é ainda bem próxima da distribuição original que partimos, que segue uma distribuição Beta"
   ]
  },
  {
   "cell_type": "code",
   "execution_count": 67,
   "metadata": {
    "collapsed": false
   },
   "outputs": [
    {
     "name": "stdout",
     "output_type": "stream",
     "text": [
      "0.28661649215016444\n",
      "0.006408431268105351\n",
      "0.0016021078170263378\n"
     ]
    },
    {
     "data": {
      "image/png": "[encoded data removed]",
      "text/plain": [
       "<matplotlib.figure.Figure at 0x1af030944a8>"
      ]
     },
     "metadata": {},
     "output_type": "display_data"
    }
   ],
   "source": [
    "#3 (n= 4)\n",
    "n = 4\n",
    "\n",
    "ListaDeMedias = []\n",
    "\n",
    "for i in range(10000):\n",
    "    Escolhas = np.random.choice(Values,n)\n",
    "    RandomDf = pd.DataFrame()\n",
    "    RandomDf[\"Val\"] = Escolhas\n",
    "    ListaDeMedias.append(RandomDf.Val.mean())\n",
    "\n",
    "MediaPd = pd.DataFrame()\n",
    "MediaPd[\"Val\"] = ListaDeMedias\n",
    "\n",
    "MediaPd.hist(bins = 50)\n",
    "\n",
    "plt.axvline(mean, color='red', linestyle='--',linewidth=2.6)\n",
    "\n",
    "\n",
    "print(MediaPd.Val.mean())\n",
    "print(MediaPd.Val.var())\n",
    "\n",
    "\n",
    "print(MediaPd.Val.var()/n)"
   ]
  },
  {
   "cell_type": "markdown",
   "metadata": {},
   "source": [
    "Aumentando o n vemos uma aproximação da distribuição de X para uma normal, vemos um deslocamento de X para em direção da média, nosso n ainda é baixo para que X se expresse como uma distruição Normal"
   ]
  },
  {
   "cell_type": "code",
   "execution_count": 71,
   "metadata": {
    "collapsed": false
   },
   "outputs": [
    {
     "name": "stdout",
     "output_type": "stream",
     "text": [
      "0.2861446857010318\n",
      "0.0012956619934546291\n",
      "6.478309967273146e-05\n"
     ]
    },
    {
     "data": {
      "image/png": "[encoded data removed]",
      "text/plain": [
       "<matplotlib.figure.Figure at 0x1af01dba940>"
      ]
     },
     "metadata": {},
     "output_type": "display_data"
    }
   ],
   "source": [
    "#3 (n= 20)\n",
    "n = 20\n",
    "\n",
    "ListaDeMedias = []\n",
    "\n",
    "for i in range(10000):\n",
    "    Escolhas = np.random.choice(Values,n)\n",
    "    RandomDf = pd.DataFrame()\n",
    "    RandomDf[\"Val\"] = Escolhas\n",
    "    ListaDeMedias.append(RandomDf.Val.mean())\n",
    "\n",
    "MediaPd = pd.DataFrame()\n",
    "MediaPd[\"Val\"] = ListaDeMedias\n",
    "\n",
    "MediaPd.hist(bins = 50)\n",
    "\n",
    "plt.axvline(mean, color='red', linestyle='--',linewidth=2.6)\n",
    "\n",
    "print(MediaPd.Val.mean())\n",
    "print(MediaPd.Val.var())\n",
    "\n",
    "\n",
    "print(MediaPd.Val.var()/n)"
   ]
  },
  {
   "cell_type": "markdown",
   "metadata": {},
   "source": [
    "Com o n=20 vemos que a distribuição X se aproxima de uma distribuição normal"
   ]
  },
  {
   "cell_type": "code",
   "execution_count": 69,
   "metadata": {
    "collapsed": false
   },
   "outputs": [
    {
     "name": "stdout",
     "output_type": "stream",
     "text": [
      "0.2864488202709092\n",
      "0.0005333244448045013\n",
      "1.0666488896090027e-05\n"
     ]
    },
    {
     "data": {
      "image/png": "[encoded data removed]",
      "text/plain": [
       "<matplotlib.figure.Figure at 0x1af03155cf8>"
      ]
     },
     "metadata": {},
     "output_type": "display_data"
    }
   ],
   "source": [
    "#3 (n= 50)\n",
    "n = 50\n",
    "\n",
    "ListaDeMedias = []\n",
    "\n",
    "for i in range(10000):\n",
    "    Escolhas = np.random.choice(Values,n)\n",
    "    RandomDf = pd.DataFrame()\n",
    "    RandomDf[\"Val\"] = Escolhas\n",
    "    ListaDeMedias.append(RandomDf.Val.mean())\n",
    "\n",
    "MediaPd = pd.DataFrame()\n",
    "MediaPd[\"Val\"] = ListaDeMedias\n",
    "\n",
    "MediaPd.hist(bins = 50)\n",
    "\n",
    "plt.axvline(mean, color='red', linestyle='--',linewidth=2.6)\n",
    "\n",
    "print(MediaPd.Val.mean())\n",
    "print(MediaPd.Val.var())\n",
    "\n",
    "print(MediaPd.Val.var()/n)"
   ]
  },
  {
   "cell_type": "markdown",
   "metadata": {},
   "source": [
    "Com n=50 nossa distribuição está simétrica e aparenta ser uma Normal ideal, confirmando nossas expectativas do Teorema do Limite Central em que para um X suficientemente alto sua distribuição tenderia à se tornar Normal"
   ]
  },
  {
   "cell_type": "markdown",
   "metadata": {},
   "source": [
    "#### 4 - Conclusão\n",
    "\n",
    "Nosso objetivo era compreender o Teorema do Limite Central (TLC), para isso realizamos um experimento, primeiramente montamos uma distribuição não-Normal e por meio de uma análise de amostras aleatórias confirmamos que a distribuição dessas amostras tende a uma distribuição Normal.\n",
    "\n",
    "No caso estudado estudamos os parâmetros de uma distribuição de tipo Beta, montamos uma distribuição X com membros aleatórios da distribuição original e analisamos como X se aproxima de uma distribuição normal conforme o número de amostras, n, aumenta.\n",
    "\n",
    "Confirmamos nossas expectativas de que, para n tendendo ao infinito, a distribuição X passa a ser de fato uma normal ideal."
   ]
  },
  {
   "cell_type": "code",
   "execution_count": 78,
   "metadata": {
    "collapsed": false
   },
   "outputs": [
    {
     "name": "stdout",
     "output_type": "stream",
     "text": [
      "0.28633992217125964\n",
      "0.0005047005873027323\n",
      "1.0094011746054647e-05\n",
      "Histograma de X\n"
     ]
    },
    {
     "data": {
      "image/png": "[encoded data removed]",
      "text/plain": [
       "<matplotlib.figure.Figure at 0x1af034ae438>"
      ]
     },
     "metadata": {},
     "output_type": "display_data"
    },
    {
     "name": "stdout",
     "output_type": "stream",
     "text": [
      "Histograma de X1\n"
     ]
    },
    {
     "data": {
      "image/png": "[encoded data removed]",
      "text/plain": [
       "<matplotlib.figure.Figure at 0x1af034c5ac8>"
      ]
     },
     "metadata": {},
     "output_type": "display_data"
    },
    {
     "name": "stdout",
     "output_type": "stream",
     "text": [
      "Histograma de X9\n"
     ]
    },
    {
     "data": {
      "image/png": "[encoded data removed]",
      "text/plain": [
       "<matplotlib.figure.Figure at 0x1af01780978>"
      ]
     },
     "metadata": {},
     "output_type": "display_data"
    },
    {
     "name": "stdout",
     "output_type": "stream",
     "text": [
      "Correlação de X1 com X9:\n",
      "-0.00843851959245\n"
     ]
    }
   ],
   "source": [
    "#Exercícios adicionais de validação (n= 50)\n",
    "n = 50\n",
    "\n",
    "ListaDeMedias = []\n",
    "Escolhas_1= []\n",
    "Escolhas_2= []\n",
    "for i in range(10000):\n",
    "    Escolhas = np.random.choice(Values,n)\n",
    "    Escolhas_1.append(Escolhas[0])\n",
    "    Escolhas_2.append(Escolhas[8])\n",
    "    RandomDf = pd.DataFrame()\n",
    "    RandomDf[\"Val\"] = Escolhas\n",
    "    ListaDeMedias.append(RandomDf.Val.mean())\n",
    "\n",
    "print(MediaPd.Val.mean())\n",
    "print(MediaPd.Val.var())\n",
    "\n",
    "print(MediaPd.Val.var()/n)\n",
    "\n",
    "print(\"Histograma de X\")\n",
    "\n",
    "MediaPd = pd.DataFrame()\n",
    "MediaPd[\"Val\"] = ListaDeMedias\n",
    "\n",
    "MediaPd.hist(bins = 50)\n",
    "\n",
    "plt.axvline(mean, color='red', linestyle='--',linewidth=2.6)\n",
    "plt.show()\n",
    "\n",
    "print(\"Histograma de X1\")\n",
    "\n",
    "MediaPd = pd.DataFrame()\n",
    "MediaPd[\"Val\"] = ListaDeMedias\n",
    "\n",
    "MediaPd.hist(bins = 50)\n",
    "\n",
    "plt.axvline(mean, color='red', linestyle='--',linewidth=2.6)\n",
    "plt.show()\n",
    "\n",
    "print(\"Histograma de X9\")\n",
    "\n",
    "MediaPd = pd.DataFrame()\n",
    "MediaPd[\"Val\"] = ListaDeMedias\n",
    "\n",
    "MediaPd.hist(bins = 50)\n",
    "\n",
    "plt.axvline(mean, color='red', linestyle='--',linewidth=2.6)\n",
    "plt.show()\n",
    "\n",
    "##\n",
    "print(\"Analisando as distribuições de X1 e X9 vemos que elas são extremamente próximas de X\")\n",
    "\n",
    "print(\"Correlação de X1 com X9:\")\n",
    "print( np.corrcoef(Escolhas_1, Escolhas_2)[0][1] )"
   ]
  },
  {
   "cell_type": "code",
   "execution_count": null,
   "metadata": {
    "collapsed": true
   },
   "outputs": [],
   "source": []
  }
 ],
 "metadata": {
  "kernelspec": {
   "display_name": "Python [Root]",
   "language": "python",
   "name": "Python [Root]"
  },
  "language_info": {
   "codemirror_mode": {
    "name": "ipython",
    "version": 3
   },
   "file_extension": ".py",
   "mimetype": "text/x-python",
   "name": "python",
   "nbconvert_exporter": "python",
   "pygments_lexer": "ipython3",
   "version": "3.5.2"
  }
 },
 "nbformat": 4,
 "nbformat_minor": 0
}
