{
 "cells": [
  {
   "cell_type": "markdown",
   "metadata": {},
   "source": [
    "# Projeto 2 - Ciência dos Dados\n",
    "##### Lucas F. K. Sousa (2B) e Francisco Ciol R. Aveiro (2A)"
   ]
  },
  {
   "cell_type": "markdown",
   "metadata": {},
   "source": [
    "Como objetivo do Projeto 2 de Ciência dos Dados, realizamos uma análise estatística acerca do comportamento de usuários aleatórios em um teste A/B.\n",
    "Para tornar tal tarefa possível, foi necessária a criação de duas versões de um mesmo site (versões A e B) e a definição da tarefa a ser apresentada ao usuário e do parâmetro a ser utilizado como fator de medição das diferenças comportamentais do mesmo.\n",
    "\n",
    "Optamos por utilizar a página de Downloads do site do editor de texto \"Sublime Text 3\". Esta pode ser visitada através do seguinte link: https://www.sublimetext.com/3.\n",
    "Mantivemos a língua inglesa utilizada no site, inclusive o texto que adicionamos como subtítulo. Na página, encontram-se várias versões (as *Builds*) do software ao qual essa se refere, além das respectivas datas de lançamento (*Release Date*) e algumas poucas informações adicionais não importantes para este projeto.\n",
    "\n",
    "Modificamos a página, transformando-a de \"Sublime Text 3\" para \"Subliminal Test 3\".\n",
    "Então, definimos esta modificação do site original como a **versão A** e a modificamos criando a **versão B**. Esta tem, como diferenças, a cor de fundo e dos botões existentes na página, a qual passou de *branco* para *laranja* e, além disso,o tamanho da fonte com a qual encontram-se escritas as datas de lançamento de cada *Build*.\n",
    "\n",
    "Quando o usuário acessa o nosso site, ele espera por alguns segundos até ser redirecionado para uma das versões. Apresentamos ao usuário - no subtítulo - a tarefa de selecionar a versão lançada na data 26 de março de 2015 (no site, está escrito em inglês \"Select the Build from 26 March 2015:\"). Caso ele selecione a *Build* correto (\"Build 3083\"), será redirecionado para uma página de agradecimento pela contribuição. Se o mesmo selecionar qualquer outro *Build*, aparecerá na tela uma mensagem reforçando que sua tarefa é selecionar a *Build* lançado dia 26 de março de 2015.\n",
    "\n",
    "Para analisarmos o comportamento do usuário de acorodo com a página acessada, utilizamos o tempo como parâmetro de análise. No momento em que a página com o conteúdo (versão A ou B) carrega, inicia-se a contagem do tempo, e quando o botão correto é selecionado, a contagem se encerra. Considerando a diferença no tamanho da fonte das datas entre as duas páginas, esperava-se que os usuários que acessassem a versão B completariam a tarefa mais rapidamente que os usuários da versão A."
   ]
  },
  {
   "cell_type": "code",
   "execution_count": 20,
   "metadata": {
    "collapsed": true
   },
   "outputs": [],
   "source": [
    "import pandas as pd\n",
    "import json\n",
    "import itertools\n",
    "import matplotlib.pyplot as plt\n",
    "from scipy import stats\n",
    "import numpy as np\n",
    "%matplotlib inline\n",
    "import statistics"
   ]
  },
  {
   "cell_type": "code",
   "execution_count": 5,
   "metadata": {
    "collapsed": false
   },
   "outputs": [],
   "source": [
    "arquivo = open(\"uau-f424e-export.json\")\n",
    "linhas = arquivo.readlines()\n",
    "texto = \"\".join(linhas)\n",
    "dados_fire = json.loads(texto)"
   ]
  },
  {
   "cell_type": "code",
   "execution_count": 6,
   "metadata": {
    "collapsed": false
   },
   "outputs": [],
   "source": [
    "for k,v in dados_fire[\"logs\"].items():\n",
    "    #print(k,v) # habilite para imprimir as chaves de mais alto nível\n",
    "    for chave, valor in v.items():\n",
    "        #print(chave, valor) # habilite para imprimir as chaves inferiores\n",
    "        pass #desabilite quando reabilitar a linha de cima"
   ]
  },
  {
   "cell_type": "code",
   "execution_count": 7,
   "metadata": {
    "collapsed": true
   },
   "outputs": [],
   "source": [
    "lista_dicionarios = []\n",
    "\n",
    "for k,v in dados_fire[\"logs\"].items():\n",
    "    lista_dicionarios.append(v)"
   ]
  },
  {
   "cell_type": "code",
   "execution_count": 8,
   "metadata": {
    "collapsed": true
   },
   "outputs": [],
   "source": [
    "dataframe = pd.DataFrame.from_records(lista_dicionarios)"
   ]
  },
  {
   "cell_type": "code",
   "execution_count": 9,
   "metadata": {
    "collapsed": false,
    "scrolled": true
   },
   "outputs": [
    {
     "data": {
      "text/html": [
       "<div>\n",
       "<table border=\"1\" class=\"dataframe\">\n",
       "  <thead>\n",
       "    <tr style=\"text-align: right;\">\n",
       "      <th></th>\n",
       "      <th>tempo</th>\n",
       "      <th>tipo</th>\n",
       "      <th>user_id</th>\n",
       "      <th>versao</th>\n",
       "    </tr>\n",
       "  </thead>\n",
       "  <tbody>\n",
       "    <tr>\n",
       "      <th>0</th>\n",
       "      <td>1479407152575</td>\n",
       "      <td>final</td>\n",
       "      <td>1350418302</td>\n",
       "      <td>A</td>\n",
       "    </tr>\n",
       "    <tr>\n",
       "      <th>1</th>\n",
       "      <td>1479405938691</td>\n",
       "      <td>final</td>\n",
       "      <td>3740328923</td>\n",
       "      <td>A</td>\n",
       "    </tr>\n",
       "    <tr>\n",
       "      <th>2</th>\n",
       "      <td>1479407150183</td>\n",
       "      <td>inicio</td>\n",
       "      <td>1350418302</td>\n",
       "      <td>A</td>\n",
       "    </tr>\n",
       "    <tr>\n",
       "      <th>3</th>\n",
       "      <td>1479331202037</td>\n",
       "      <td>final</td>\n",
       "      <td>616614234</td>\n",
       "      <td>A</td>\n",
       "    </tr>\n",
       "    <tr>\n",
       "      <th>4</th>\n",
       "      <td>1478297498301</td>\n",
       "      <td>inicio</td>\n",
       "      <td>1753850124</td>\n",
       "      <td>A</td>\n",
       "    </tr>\n",
       "    <tr>\n",
       "      <th>5</th>\n",
       "      <td>1479331837309</td>\n",
       "      <td>final</td>\n",
       "      <td>1258865379</td>\n",
       "      <td>B</td>\n",
       "    </tr>\n",
       "    <tr>\n",
       "      <th>6</th>\n",
       "      <td>1479408465618</td>\n",
       "      <td>inicio</td>\n",
       "      <td>3740328923</td>\n",
       "      <td>A</td>\n",
       "    </tr>\n",
       "    <tr>\n",
       "      <th>7</th>\n",
       "      <td>1479329286676</td>\n",
       "      <td>inicio</td>\n",
       "      <td>109152046</td>\n",
       "      <td>A</td>\n",
       "    </tr>\n",
       "    <tr>\n",
       "      <th>8</th>\n",
       "      <td>1479407886587</td>\n",
       "      <td>final</td>\n",
       "      <td>4178368966</td>\n",
       "      <td>A</td>\n",
       "    </tr>\n",
       "    <tr>\n",
       "      <th>9</th>\n",
       "      <td>1478303060689</td>\n",
       "      <td>inicio</td>\n",
       "      <td>5739265920</td>\n",
       "      <td>B</td>\n",
       "    </tr>\n",
       "    <tr>\n",
       "      <th>10</th>\n",
       "      <td>1479408433963</td>\n",
       "      <td>final</td>\n",
       "      <td>3740328923</td>\n",
       "      <td>A</td>\n",
       "    </tr>\n",
       "    <tr>\n",
       "      <th>11</th>\n",
       "      <td>1479328554472</td>\n",
       "      <td>inicio</td>\n",
       "      <td>1237485838</td>\n",
       "      <td>B</td>\n",
       "    </tr>\n",
       "    <tr>\n",
       "      <th>12</th>\n",
       "      <td>1479407898525</td>\n",
       "      <td>inicio</td>\n",
       "      <td>3825712005</td>\n",
       "      <td>B</td>\n",
       "    </tr>\n",
       "    <tr>\n",
       "      <th>13</th>\n",
       "      <td>1479328430813</td>\n",
       "      <td>inicio</td>\n",
       "      <td>3672029794</td>\n",
       "      <td>A</td>\n",
       "    </tr>\n",
       "    <tr>\n",
       "      <th>14</th>\n",
       "      <td>1479330464818</td>\n",
       "      <td>inicio</td>\n",
       "      <td>1175594813</td>\n",
       "      <td>A</td>\n",
       "    </tr>\n",
       "    <tr>\n",
       "      <th>15</th>\n",
       "      <td>1479334862597</td>\n",
       "      <td>final</td>\n",
       "      <td>2879617643</td>\n",
       "      <td>B</td>\n",
       "    </tr>\n",
       "    <tr>\n",
       "      <th>16</th>\n",
       "      <td>1478297505462</td>\n",
       "      <td>final</td>\n",
       "      <td>1753850124</td>\n",
       "      <td>A</td>\n",
       "    </tr>\n",
       "    <tr>\n",
       "      <th>17</th>\n",
       "      <td>1479331115832</td>\n",
       "      <td>inicio</td>\n",
       "      <td>2167939248</td>\n",
       "      <td>A</td>\n",
       "    </tr>\n",
       "    <tr>\n",
       "      <th>18</th>\n",
       "      <td>1479328468766</td>\n",
       "      <td>final</td>\n",
       "      <td>3672029794</td>\n",
       "      <td>A</td>\n",
       "    </tr>\n",
       "    <tr>\n",
       "      <th>19</th>\n",
       "      <td>1478303075357</td>\n",
       "      <td>final</td>\n",
       "      <td>5739265920</td>\n",
       "      <td>B</td>\n",
       "    </tr>\n",
       "    <tr>\n",
       "      <th>20</th>\n",
       "      <td>1479407044934</td>\n",
       "      <td>inicio</td>\n",
       "      <td>1732623348</td>\n",
       "      <td>B</td>\n",
       "    </tr>\n",
       "    <tr>\n",
       "      <th>21</th>\n",
       "      <td>1479408267237</td>\n",
       "      <td>inicio</td>\n",
       "      <td>4162256545</td>\n",
       "      <td>A</td>\n",
       "    </tr>\n",
       "    <tr>\n",
       "      <th>22</th>\n",
       "      <td>1478303284922</td>\n",
       "      <td>final</td>\n",
       "      <td>2847294658</td>\n",
       "      <td>A</td>\n",
       "    </tr>\n",
       "    <tr>\n",
       "      <th>23</th>\n",
       "      <td>1479330480134</td>\n",
       "      <td>final</td>\n",
       "      <td>1175594813</td>\n",
       "      <td>A</td>\n",
       "    </tr>\n",
       "    <tr>\n",
       "      <th>24</th>\n",
       "      <td>1479337068589</td>\n",
       "      <td>final</td>\n",
       "      <td>3113604714</td>\n",
       "      <td>A</td>\n",
       "    </tr>\n",
       "    <tr>\n",
       "      <th>25</th>\n",
       "      <td>1479334841759</td>\n",
       "      <td>inicio</td>\n",
       "      <td>2879617643</td>\n",
       "      <td>B</td>\n",
       "    </tr>\n",
       "    <tr>\n",
       "      <th>26</th>\n",
       "      <td>1479407884441</td>\n",
       "      <td>inicio</td>\n",
       "      <td>4178368966</td>\n",
       "      <td>A</td>\n",
       "    </tr>\n",
       "    <tr>\n",
       "      <th>27</th>\n",
       "      <td>1479337048635</td>\n",
       "      <td>inicio</td>\n",
       "      <td>3113604714</td>\n",
       "      <td>A</td>\n",
       "    </tr>\n",
       "    <tr>\n",
       "      <th>28</th>\n",
       "      <td>1479406516409</td>\n",
       "      <td>final</td>\n",
       "      <td>3740328923</td>\n",
       "      <td>A</td>\n",
       "    </tr>\n",
       "    <tr>\n",
       "      <th>29</th>\n",
       "      <td>1479407303720</td>\n",
       "      <td>final</td>\n",
       "      <td>204229418</td>\n",
       "      <td>A</td>\n",
       "    </tr>\n",
       "    <tr>\n",
       "      <th>...</th>\n",
       "      <td>...</td>\n",
       "      <td>...</td>\n",
       "      <td>...</td>\n",
       "      <td>...</td>\n",
       "    </tr>\n",
       "    <tr>\n",
       "      <th>36</th>\n",
       "      <td>1479405837867</td>\n",
       "      <td>inicio</td>\n",
       "      <td>4258379090</td>\n",
       "      <td>A</td>\n",
       "    </tr>\n",
       "    <tr>\n",
       "      <th>37</th>\n",
       "      <td>1479329306705</td>\n",
       "      <td>final</td>\n",
       "      <td>109152046</td>\n",
       "      <td>A</td>\n",
       "    </tr>\n",
       "    <tr>\n",
       "      <th>38</th>\n",
       "      <td>1479407913640</td>\n",
       "      <td>final</td>\n",
       "      <td>3825712005</td>\n",
       "      <td>B</td>\n",
       "    </tr>\n",
       "    <tr>\n",
       "      <th>39</th>\n",
       "      <td>1479405931163</td>\n",
       "      <td>inicio</td>\n",
       "      <td>3740328923</td>\n",
       "      <td>A</td>\n",
       "    </tr>\n",
       "    <tr>\n",
       "      <th>40</th>\n",
       "      <td>1479408277664</td>\n",
       "      <td>final</td>\n",
       "      <td>4162256545</td>\n",
       "      <td>A</td>\n",
       "    </tr>\n",
       "    <tr>\n",
       "      <th>41</th>\n",
       "      <td>1479408429857</td>\n",
       "      <td>inicio</td>\n",
       "      <td>3740328923</td>\n",
       "      <td>A</td>\n",
       "    </tr>\n",
       "    <tr>\n",
       "      <th>42</th>\n",
       "      <td>1479333851273</td>\n",
       "      <td>inicio</td>\n",
       "      <td>1355150594</td>\n",
       "      <td>B</td>\n",
       "    </tr>\n",
       "    <tr>\n",
       "      <th>43</th>\n",
       "      <td>1479355188060</td>\n",
       "      <td>inicio</td>\n",
       "      <td>1212005310</td>\n",
       "      <td>B</td>\n",
       "    </tr>\n",
       "    <tr>\n",
       "      <th>44</th>\n",
       "      <td>1479408468153</td>\n",
       "      <td>final</td>\n",
       "      <td>3740328923</td>\n",
       "      <td>A</td>\n",
       "    </tr>\n",
       "    <tr>\n",
       "      <th>45</th>\n",
       "      <td>1479328048505</td>\n",
       "      <td>final</td>\n",
       "      <td>2295430006</td>\n",
       "      <td>A</td>\n",
       "    </tr>\n",
       "    <tr>\n",
       "      <th>46</th>\n",
       "      <td>1478298610377</td>\n",
       "      <td>inicio</td>\n",
       "      <td>1037037937</td>\n",
       "      <td>B</td>\n",
       "    </tr>\n",
       "    <tr>\n",
       "      <th>47</th>\n",
       "      <td>1479329056575</td>\n",
       "      <td>final</td>\n",
       "      <td>2721956682</td>\n",
       "      <td>A</td>\n",
       "    </tr>\n",
       "    <tr>\n",
       "      <th>48</th>\n",
       "      <td>1479406676687</td>\n",
       "      <td>inicio</td>\n",
       "      <td>3608981229</td>\n",
       "      <td>B</td>\n",
       "    </tr>\n",
       "    <tr>\n",
       "      <th>49</th>\n",
       "      <td>1479329047182</td>\n",
       "      <td>inicio</td>\n",
       "      <td>2721956682</td>\n",
       "      <td>A</td>\n",
       "    </tr>\n",
       "    <tr>\n",
       "      <th>50</th>\n",
       "      <td>1479338216007</td>\n",
       "      <td>final</td>\n",
       "      <td>2761199072</td>\n",
       "      <td>B</td>\n",
       "    </tr>\n",
       "    <tr>\n",
       "      <th>51</th>\n",
       "      <td>1479331125534</td>\n",
       "      <td>final</td>\n",
       "      <td>2167939248</td>\n",
       "      <td>A</td>\n",
       "    </tr>\n",
       "    <tr>\n",
       "      <th>52</th>\n",
       "      <td>1479333878243</td>\n",
       "      <td>final</td>\n",
       "      <td>1355150594</td>\n",
       "      <td>B</td>\n",
       "    </tr>\n",
       "    <tr>\n",
       "      <th>53</th>\n",
       "      <td>1479328591815</td>\n",
       "      <td>final</td>\n",
       "      <td>1237485838</td>\n",
       "      <td>B</td>\n",
       "    </tr>\n",
       "    <tr>\n",
       "      <th>54</th>\n",
       "      <td>1479330761403</td>\n",
       "      <td>final</td>\n",
       "      <td>213071084</td>\n",
       "      <td>B</td>\n",
       "    </tr>\n",
       "    <tr>\n",
       "      <th>55</th>\n",
       "      <td>1479355200133</td>\n",
       "      <td>final</td>\n",
       "      <td>1212005310</td>\n",
       "      <td>B</td>\n",
       "    </tr>\n",
       "    <tr>\n",
       "      <th>56</th>\n",
       "      <td>1478303936544</td>\n",
       "      <td>final</td>\n",
       "      <td>1050193856</td>\n",
       "      <td>B</td>\n",
       "    </tr>\n",
       "    <tr>\n",
       "      <th>57</th>\n",
       "      <td>1479405850849</td>\n",
       "      <td>final</td>\n",
       "      <td>4258379090</td>\n",
       "      <td>A</td>\n",
       "    </tr>\n",
       "    <tr>\n",
       "      <th>58</th>\n",
       "      <td>1479406683157</td>\n",
       "      <td>final</td>\n",
       "      <td>3608981229</td>\n",
       "      <td>B</td>\n",
       "    </tr>\n",
       "    <tr>\n",
       "      <th>59</th>\n",
       "      <td>1478303274688</td>\n",
       "      <td>inicio</td>\n",
       "      <td>2847294658</td>\n",
       "      <td>A</td>\n",
       "    </tr>\n",
       "    <tr>\n",
       "      <th>60</th>\n",
       "      <td>1479331834791</td>\n",
       "      <td>inicio</td>\n",
       "      <td>1258865379</td>\n",
       "      <td>B</td>\n",
       "    </tr>\n",
       "    <tr>\n",
       "      <th>61</th>\n",
       "      <td>1479405199414</td>\n",
       "      <td>inicio</td>\n",
       "      <td>3740328923</td>\n",
       "      <td>A</td>\n",
       "    </tr>\n",
       "    <tr>\n",
       "      <th>62</th>\n",
       "      <td>1478298623428</td>\n",
       "      <td>final</td>\n",
       "      <td>1037037937</td>\n",
       "      <td>B</td>\n",
       "    </tr>\n",
       "    <tr>\n",
       "      <th>63</th>\n",
       "      <td>1479331196338</td>\n",
       "      <td>inicio</td>\n",
       "      <td>616614234</td>\n",
       "      <td>A</td>\n",
       "    </tr>\n",
       "    <tr>\n",
       "      <th>64</th>\n",
       "      <td>1479338210042</td>\n",
       "      <td>inicio</td>\n",
       "      <td>2761199072</td>\n",
       "      <td>B</td>\n",
       "    </tr>\n",
       "    <tr>\n",
       "      <th>65</th>\n",
       "      <td>1479407299164</td>\n",
       "      <td>inicio</td>\n",
       "      <td>204229418</td>\n",
       "      <td>A</td>\n",
       "    </tr>\n",
       "  </tbody>\n",
       "</table>\n",
       "<p>66 rows × 4 columns</p>\n",
       "</div>"
      ],
      "text/plain": [
       "            tempo    tipo     user_id versao\n",
       "0   1479407152575   final  1350418302      A\n",
       "1   1479405938691   final  3740328923      A\n",
       "2   1479407150183  inicio  1350418302      A\n",
       "3   1479331202037   final   616614234      A\n",
       "4   1478297498301  inicio  1753850124      A\n",
       "5   1479331837309   final  1258865379      B\n",
       "6   1479408465618  inicio  3740328923      A\n",
       "7   1479329286676  inicio   109152046      A\n",
       "8   1479407886587   final  4178368966      A\n",
       "9   1478303060689  inicio  5739265920      B\n",
       "10  1479408433963   final  3740328923      A\n",
       "11  1479328554472  inicio  1237485838      B\n",
       "12  1479407898525  inicio  3825712005      B\n",
       "13  1479328430813  inicio  3672029794      A\n",
       "14  1479330464818  inicio  1175594813      A\n",
       "15  1479334862597   final  2879617643      B\n",
       "16  1478297505462   final  1753850124      A\n",
       "17  1479331115832  inicio  2167939248      A\n",
       "18  1479328468766   final  3672029794      A\n",
       "19  1478303075357   final  5739265920      B\n",
       "20  1479407044934  inicio  1732623348      B\n",
       "21  1479408267237  inicio  4162256545      A\n",
       "22  1478303284922   final  2847294658      A\n",
       "23  1479330480134   final  1175594813      A\n",
       "24  1479337068589   final  3113604714      A\n",
       "25  1479334841759  inicio  2879617643      B\n",
       "26  1479407884441  inicio  4178368966      A\n",
       "27  1479337048635  inicio  3113604714      A\n",
       "28  1479406516409   final  3740328923      A\n",
       "29  1479407303720   final   204229418      A\n",
       "..            ...     ...         ...    ...\n",
       "36  1479405837867  inicio  4258379090      A\n",
       "37  1479329306705   final   109152046      A\n",
       "38  1479407913640   final  3825712005      B\n",
       "39  1479405931163  inicio  3740328923      A\n",
       "40  1479408277664   final  4162256545      A\n",
       "41  1479408429857  inicio  3740328923      A\n",
       "42  1479333851273  inicio  1355150594      B\n",
       "43  1479355188060  inicio  1212005310      B\n",
       "44  1479408468153   final  3740328923      A\n",
       "45  1479328048505   final  2295430006      A\n",
       "46  1478298610377  inicio  1037037937      B\n",
       "47  1479329056575   final  2721956682      A\n",
       "48  1479406676687  inicio  3608981229      B\n",
       "49  1479329047182  inicio  2721956682      A\n",
       "50  1479338216007   final  2761199072      B\n",
       "51  1479331125534   final  2167939248      A\n",
       "52  1479333878243   final  1355150594      B\n",
       "53  1479328591815   final  1237485838      B\n",
       "54  1479330761403   final   213071084      B\n",
       "55  1479355200133   final  1212005310      B\n",
       "56  1478303936544   final  1050193856      B\n",
       "57  1479405850849   final  4258379090      A\n",
       "58  1479406683157   final  3608981229      B\n",
       "59  1478303274688  inicio  2847294658      A\n",
       "60  1479331834791  inicio  1258865379      B\n",
       "61  1479405199414  inicio  3740328923      A\n",
       "62  1478298623428   final  1037037937      B\n",
       "63  1479331196338  inicio   616614234      A\n",
       "64  1479338210042  inicio  2761199072      B\n",
       "65  1479407299164  inicio   204229418      A\n",
       "\n",
       "[66 rows x 4 columns]"
      ]
     },
     "execution_count": 9,
     "metadata": {},
     "output_type": "execute_result"
    }
   ],
   "source": [
    "dataframe"
   ]
  },
  {
   "cell_type": "code",
   "execution_count": 10,
   "metadata": {
    "collapsed": true
   },
   "outputs": [],
   "source": [
    "agrupado = dataframe.groupby(by=[\"user_id\", \"versao\"])"
   ]
  },
  {
   "cell_type": "code",
   "execution_count": 11,
   "metadata": {
    "collapsed": true
   },
   "outputs": [],
   "source": [
    "users = set(dataframe.user_id) # We convert it to a set so that each user appear only once"
   ]
  },
  {
   "cell_type": "code",
   "execution_count": 12,
   "metadata": {
    "collapsed": true
   },
   "outputs": [],
   "source": [
    "users = list(users) "
   ]
  },
  {
   "cell_type": "code",
   "execution_count": 13,
   "metadata": {
    "collapsed": true
   },
   "outputs": [],
   "source": [
    "resultados = []\n",
    "\n",
    "for u in users:\n",
    "    for versao in [\"A\", \"B\"]:\n",
    "        if (u, versao) in agrupado.groups.keys(): # Check if a specific pair user/type of test happened\n",
    "            grupo1 =  agrupado.get_group((u, versao))\n",
    "            grupo1 = grupo1.sort_values(by=\"tempo\") # Para evitar que inícios sem fim gerem tempos negativos\n",
    "            \n",
    "            if len(grupo1[grupo1.tipo==\"final\"])>= 1 and len(grupo1[grupo1.tipo==\"inicio\"]) >= 1:\n",
    "                delta_t = grupo1[grupo1.tipo==\"final\"].iloc[-1].tempo - grupo1[grupo1.tipo==\"inicio\"].iloc[0].tempo\n",
    "                resultados.append({\"user_id\":u, \"delta_t\":delta_t, \"versao\":versao})"
   ]
  },
  {
   "cell_type": "code",
   "execution_count": 14,
   "metadata": {
    "collapsed": false
   },
   "outputs": [
    {
     "data": {
      "text/html": [
       "<div>\n",
       "<table border=\"1\" class=\"dataframe\">\n",
       "  <thead>\n",
       "    <tr style=\"text-align: right;\">\n",
       "      <th></th>\n",
       "      <th>tempo</th>\n",
       "      <th>tipo</th>\n",
       "      <th>user_id</th>\n",
       "      <th>versao</th>\n",
       "    </tr>\n",
       "  </thead>\n",
       "  <tbody>\n",
       "    <tr>\n",
       "      <th>2</th>\n",
       "      <td>1479407150183</td>\n",
       "      <td>inicio</td>\n",
       "      <td>1350418302</td>\n",
       "      <td>A</td>\n",
       "    </tr>\n",
       "    <tr>\n",
       "      <th>0</th>\n",
       "      <td>1479407152575</td>\n",
       "      <td>final</td>\n",
       "      <td>1350418302</td>\n",
       "      <td>A</td>\n",
       "    </tr>\n",
       "  </tbody>\n",
       "</table>\n",
       "</div>"
      ],
      "text/plain": [
       "           tempo    tipo     user_id versao\n",
       "2  1479407150183  inicio  1350418302      A\n",
       "0  1479407152575   final  1350418302      A"
      ]
     },
     "execution_count": 14,
     "metadata": {},
     "output_type": "execute_result"
    }
   ],
   "source": [
    "grupo1.sort_values(by=\"tempo\")"
   ]
  },
  {
   "cell_type": "code",
   "execution_count": 15,
   "metadata": {
    "collapsed": true
   },
   "outputs": [],
   "source": [
    "dataframe_resumo = pd.DataFrame.from_records(resultados)"
   ]
  },
  {
   "cell_type": "code",
   "execution_count": 16,
   "metadata": {
    "collapsed": true
   },
   "outputs": [],
   "source": [
    "dataframe_resumo.delta_t/=1000 # Convertendo milissegundos em segundos"
   ]
  },
  {
   "cell_type": "code",
   "execution_count": 17,
   "metadata": {
    "collapsed": false,
    "scrolled": true
   },
   "outputs": [
    {
     "data": {
      "text/html": [
       "<div>\n",
       "<table border=\"1\" class=\"dataframe\">\n",
       "  <thead>\n",
       "    <tr style=\"text-align: right;\">\n",
       "      <th></th>\n",
       "      <th>delta_t</th>\n",
       "      <th>user_id</th>\n",
       "      <th>versao</th>\n",
       "    </tr>\n",
       "  </thead>\n",
       "  <tbody>\n",
       "    <tr>\n",
       "      <th>0</th>\n",
       "      <td>14.668</td>\n",
       "      <td>5739265920</td>\n",
       "      <td>B</td>\n",
       "    </tr>\n",
       "    <tr>\n",
       "      <th>1</th>\n",
       "      <td>26.970</td>\n",
       "      <td>1355150594</td>\n",
       "      <td>B</td>\n",
       "    </tr>\n",
       "    <tr>\n",
       "      <th>2</th>\n",
       "      <td>15.115</td>\n",
       "      <td>3825712005</td>\n",
       "      <td>B</td>\n",
       "    </tr>\n",
       "    <tr>\n",
       "      <th>3</th>\n",
       "      <td>7.161</td>\n",
       "      <td>1753850124</td>\n",
       "      <td>A</td>\n",
       "    </tr>\n",
       "    <tr>\n",
       "      <th>4</th>\n",
       "      <td>37.343</td>\n",
       "      <td>1237485838</td>\n",
       "      <td>B</td>\n",
       "    </tr>\n",
       "    <tr>\n",
       "      <th>5</th>\n",
       "      <td>10.427</td>\n",
       "      <td>4162256545</td>\n",
       "      <td>A</td>\n",
       "    </tr>\n",
       "    <tr>\n",
       "      <th>6</th>\n",
       "      <td>4.556</td>\n",
       "      <td>204229418</td>\n",
       "      <td>A</td>\n",
       "    </tr>\n",
       "    <tr>\n",
       "      <th>7</th>\n",
       "      <td>20.029</td>\n",
       "      <td>109152046</td>\n",
       "      <td>A</td>\n",
       "    </tr>\n",
       "    <tr>\n",
       "      <th>8</th>\n",
       "      <td>9.702</td>\n",
       "      <td>2167939248</td>\n",
       "      <td>A</td>\n",
       "    </tr>\n",
       "    <tr>\n",
       "      <th>9</th>\n",
       "      <td>15.316</td>\n",
       "      <td>1175594813</td>\n",
       "      <td>A</td>\n",
       "    </tr>\n",
       "    <tr>\n",
       "      <th>10</th>\n",
       "      <td>12.073</td>\n",
       "      <td>1212005310</td>\n",
       "      <td>B</td>\n",
       "    </tr>\n",
       "    <tr>\n",
       "      <th>11</th>\n",
       "      <td>7.241</td>\n",
       "      <td>1050193856</td>\n",
       "      <td>B</td>\n",
       "    </tr>\n",
       "    <tr>\n",
       "      <th>12</th>\n",
       "      <td>10.234</td>\n",
       "      <td>2847294658</td>\n",
       "      <td>A</td>\n",
       "    </tr>\n",
       "    <tr>\n",
       "      <th>13</th>\n",
       "      <td>2.146</td>\n",
       "      <td>4178368966</td>\n",
       "      <td>A</td>\n",
       "    </tr>\n",
       "    <tr>\n",
       "      <th>14</th>\n",
       "      <td>9.393</td>\n",
       "      <td>2721956682</td>\n",
       "      <td>A</td>\n",
       "    </tr>\n",
       "    <tr>\n",
       "      <th>15</th>\n",
       "      <td>12.982</td>\n",
       "      <td>4258379090</td>\n",
       "      <td>A</td>\n",
       "    </tr>\n",
       "    <tr>\n",
       "      <th>16</th>\n",
       "      <td>5.699</td>\n",
       "      <td>616614234</td>\n",
       "      <td>A</td>\n",
       "    </tr>\n",
       "    <tr>\n",
       "      <th>17</th>\n",
       "      <td>3268.739</td>\n",
       "      <td>3740328923</td>\n",
       "      <td>A</td>\n",
       "    </tr>\n",
       "    <tr>\n",
       "      <th>18</th>\n",
       "      <td>5.965</td>\n",
       "      <td>2761199072</td>\n",
       "      <td>B</td>\n",
       "    </tr>\n",
       "    <tr>\n",
       "      <th>19</th>\n",
       "      <td>37.953</td>\n",
       "      <td>3672029794</td>\n",
       "      <td>A</td>\n",
       "    </tr>\n",
       "    <tr>\n",
       "      <th>20</th>\n",
       "      <td>2.518</td>\n",
       "      <td>1258865379</td>\n",
       "      <td>B</td>\n",
       "    </tr>\n",
       "    <tr>\n",
       "      <th>21</th>\n",
       "      <td>19.954</td>\n",
       "      <td>3113604714</td>\n",
       "      <td>A</td>\n",
       "    </tr>\n",
       "    <tr>\n",
       "      <th>22</th>\n",
       "      <td>20.838</td>\n",
       "      <td>2879617643</td>\n",
       "      <td>B</td>\n",
       "    </tr>\n",
       "    <tr>\n",
       "      <th>23</th>\n",
       "      <td>14.395</td>\n",
       "      <td>213071084</td>\n",
       "      <td>B</td>\n",
       "    </tr>\n",
       "    <tr>\n",
       "      <th>24</th>\n",
       "      <td>6.470</td>\n",
       "      <td>3608981229</td>\n",
       "      <td>B</td>\n",
       "    </tr>\n",
       "    <tr>\n",
       "      <th>25</th>\n",
       "      <td>13.051</td>\n",
       "      <td>1037037937</td>\n",
       "      <td>B</td>\n",
       "    </tr>\n",
       "    <tr>\n",
       "      <th>26</th>\n",
       "      <td>29.699</td>\n",
       "      <td>1732623348</td>\n",
       "      <td>B</td>\n",
       "    </tr>\n",
       "    <tr>\n",
       "      <th>27</th>\n",
       "      <td>5.902</td>\n",
       "      <td>2295430006</td>\n",
       "      <td>A</td>\n",
       "    </tr>\n",
       "    <tr>\n",
       "      <th>28</th>\n",
       "      <td>2.392</td>\n",
       "      <td>1350418302</td>\n",
       "      <td>A</td>\n",
       "    </tr>\n",
       "  </tbody>\n",
       "</table>\n",
       "</div>"
      ],
      "text/plain": [
       "     delta_t     user_id versao\n",
       "0     14.668  5739265920      B\n",
       "1     26.970  1355150594      B\n",
       "2     15.115  3825712005      B\n",
       "3      7.161  1753850124      A\n",
       "4     37.343  1237485838      B\n",
       "5     10.427  4162256545      A\n",
       "6      4.556   204229418      A\n",
       "7     20.029   109152046      A\n",
       "8      9.702  2167939248      A\n",
       "9     15.316  1175594813      A\n",
       "10    12.073  1212005310      B\n",
       "11     7.241  1050193856      B\n",
       "12    10.234  2847294658      A\n",
       "13     2.146  4178368966      A\n",
       "14     9.393  2721956682      A\n",
       "15    12.982  4258379090      A\n",
       "16     5.699   616614234      A\n",
       "17  3268.739  3740328923      A\n",
       "18     5.965  2761199072      B\n",
       "19    37.953  3672029794      A\n",
       "20     2.518  1258865379      B\n",
       "21    19.954  3113604714      A\n",
       "22    20.838  2879617643      B\n",
       "23    14.395   213071084      B\n",
       "24     6.470  3608981229      B\n",
       "25    13.051  1037037937      B\n",
       "26    29.699  1732623348      B\n",
       "27     5.902  2295430006      A\n",
       "28     2.392  1350418302      A"
      ]
     },
     "execution_count": 17,
     "metadata": {},
     "output_type": "execute_result"
    }
   ],
   "source": [
    "dataframe_resumo"
   ]
  },
  {
   "cell_type": "code",
   "execution_count": 18,
   "metadata": {
    "collapsed": false
   },
   "outputs": [
    {
     "data": {
      "text/plain": [
       "(array([ 2.,  2.,  1.,  4.,  0.,  1.,  0.,  2.,  0.,  1.]),\n",
       " array([  2.518 ,   6.0005,   9.483 ,  12.9655,  16.448 ,  19.9305,\n",
       "         23.413 ,  26.8955,  30.378 ,  33.8605,  37.343 ]),\n",
       " <a list of 10 Patch objects>)"
      ]
     },
     "execution_count": 18,
     "metadata": {},
     "output_type": "execute_result"
    },
    {
     "data": {
      "image/png": "[encoded data removed]",
      "text/plain": [
       "<matplotlib.figure.Figure at 0x257db210b38>"
      ]
     },
     "metadata": {},
     "output_type": "display_data"
    }
   ],
   "source": [
    "tempos_A = list(dataframe_resumo[dataframe_resumo.versao==\"A\"].delta_t)\n",
    "tempos_B = list(dataframe_resumo[dataframe_resumo.versao==\"B\"].delta_t)\n",
    "plt.hist(tempos_A, bins=10, color='red')\n",
    "plt.hist(tempos_B, bins=10, alpha=0.5, color='blue')"
   ]
  },
  {
   "cell_type": "markdown",
   "metadata": {
    "collapsed": true
   },
   "source": [
    "#### Calculando Médias:"
   ]
  },
  {
   "cell_type": "code",
   "execution_count": 21,
   "metadata": {
    "collapsed": false
   },
   "outputs": [
    {
     "data": {
      "text/plain": [
       "215.16156250000003"
      ]
     },
     "execution_count": 21,
     "metadata": {},
     "output_type": "execute_result"
    }
   ],
   "source": [
    "np.mean(tempos_A)"
   ]
  },
  {
   "cell_type": "code",
   "execution_count": 22,
   "metadata": {
    "collapsed": false
   },
   "outputs": [
    {
     "data": {
      "text/plain": [
       "15.872769230769231"
      ]
     },
     "execution_count": 22,
     "metadata": {},
     "output_type": "execute_result"
    }
   ],
   "source": [
    "np.mean(tempos_B)"
   ]
  },
  {
   "cell_type": "markdown",
   "metadata": {},
   "source": [
    "Podemos observar que, de fato, os usuários que acessaram a versão A demoraram mais tempo para completar a tarefa apresentada quando comparados aos que acessaram a versão B."
   ]
  },
  {
   "cell_type": "markdown",
   "metadata": {},
   "source": [
    "#### Calculando Variâncias:"
   ]
  },
  {
   "cell_type": "code",
   "execution_count": 23,
   "metadata": {
    "collapsed": false
   },
   "outputs": [
    {
     "data": {
      "text/plain": [
       "621695.68990049616"
      ]
     },
     "execution_count": 23,
     "metadata": {},
     "output_type": "execute_result"
    }
   ],
   "source": [
    "statistics.pvariance(tempos_A)"
   ]
  },
  {
   "cell_type": "code",
   "execution_count": 24,
   "metadata": {
    "collapsed": false
   },
   "outputs": [
    {
     "data": {
      "text/plain": [
       "97.383145254437892"
      ]
     },
     "execution_count": 24,
     "metadata": {},
     "output_type": "execute_result"
    }
   ],
   "source": [
    "statistics.pvariance(tempos_B)"
   ]
  },
  {
   "cell_type": "markdown",
   "metadata": {},
   "source": [
    "#### Desenvolvendo o modelo com base em hipóteses:"
   ]
  },
  {
   "cell_type": "markdown",
   "metadata": {},
   "source": [
    "H0: ud = 0 (Não altera)\n",
    "\n",
    "H1: ud > 0 (Altera)\n",
    "\n",
    "ud = uAntes-uDepois\n",
    "\n",
    "alfa = 5%\n"
   ]
  },
  {
   "cell_type": "markdown",
   "metadata": {},
   "source": [
    "O teste utilizado foi o teste t de Student, considerando variâncias diferentes:"
   ]
  },
  {
   "cell_type": "code",
   "execution_count": 25,
   "metadata": {
    "collapsed": false
   },
   "outputs": [
    {
     "data": {
      "text/plain": [
       "Ttest_indResult(statistic=0.97880699673646232, pvalue=0.34319301794780432)"
      ]
     },
     "execution_count": 25,
     "metadata": {},
     "output_type": "execute_result"
    }
   ],
   "source": [
    "stats.ttest_ind(tempos_A,tempos_B,equal_var=False)"
   ]
  },
  {
   "cell_type": "markdown",
   "metadata": {},
   "source": [
    "Tendo calculado a densidade t (statistic) e os graus de liberdade v (pvalue), analisamos o comportamento de um modelo com uma amostra relativamente pequena. Tal fato pode ser notado pelo valor pequeno de v=0.343. Deve-se observar que, conforme o tamanho da amostra aumenta, a densidade t aproxima-se da Normal padrão, sendo que, para graus de liberdade superiores a 120, é utilizada a tabela da distribuição Normal ao invés da tabela própria da distrinuição t-Student."
   ]
  }
 ],
 "metadata": {
  "kernelspec": {
   "display_name": "Python [Root]",
   "language": "python",
   "name": "Python [Root]"
  },
  "language_info": {
   "codemirror_mode": {
    "name": "ipython",
    "version": 3
   },
   "file_extension": ".py",
   "mimetype": "text/x-python",
   "name": "python",
   "nbconvert_exporter": "python",
   "pygments_lexer": "ipython3",
   "version": "3.5.2"
  }
 },
 "nbformat": 4,
 "nbformat_minor": 0
}
